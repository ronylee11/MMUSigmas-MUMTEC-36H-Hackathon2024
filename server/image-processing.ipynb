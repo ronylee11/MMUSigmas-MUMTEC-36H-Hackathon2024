{
 "cells": [
  {
   "cell_type": "markdown",
   "metadata": {},
   "source": [
    "## Pill Defect Detector Image Processing\n",
    "- Object Detection\n",
    "- Alignment / Orientation Invariance\n",
    "- Canny Edge Detection\n",
    "- Contour Analysis"
   ]
  },
  {
   "cell_type": "markdown",
   "metadata": {},
   "source": []
  }
 ],
 "metadata": {
  "language_info": {
   "name": "python"
  }
 },
 "nbformat": 4,
 "nbformat_minor": 2
}
